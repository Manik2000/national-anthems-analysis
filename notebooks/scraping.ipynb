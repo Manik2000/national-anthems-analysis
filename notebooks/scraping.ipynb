{
 "cells": [
  {
   "cell_type": "code",
   "execution_count": 1,
   "metadata": {},
   "outputs": [],
   "source": [
    "import re\n",
    "import pickle\n",
    "import requests\n",
    "import pycountry\n",
    "from tqdm import tqdm\n",
    "from bs4 import BeautifulSoup\n",
    "import pandas as pd\n",
    "import logging\n",
    "\n",
    "logging.getLogger(\"requests\").setLevel(logging.WARNING)\n",
    "logging.getLogger(\"urllib3\").setLevel(logging.WARNING)\n",
    "headers = {'User-Agent': 'Mozilla/5.0 (Macintosh; Intel Mac OS X 10.12; rv:55.0) Gecko/20100101 Firefox/55.0'}\n",
    "page_url = 'https://nationalanthems.info/'  # home page\n",
    "page = requests.get(page_url, headers=headers)\n",
    "soup = BeautifulSoup(page.text)"
   ]
  },
  {
   "cell_type": "markdown",
   "metadata": {},
   "source": [
    "## Scraping"
   ]
  },
  {
   "cell_type": "code",
   "execution_count": 2,
   "metadata": {},
   "outputs": [],
   "source": [
    "menu_items = soup.find_all(class_=re.compile(\"menu-item-\"))  # items from the horizontal dropdown menus at the top of the page\n",
    "menu_items = [item.find(\"a\") for item in menu_items if \"menu-item-has-children\" not in item.attrs[\"class\"]]  # we want links only for single countries\n",
    "links = [item[\"href\"] for item in menu_items][:-1]  # excluding the last one, which is a link to FAQ\n",
    "links = sorted(list(set(links)), key=lambda link: link.split(\"info\")[1]) # remove possible duplicates and sort"
   ]
  },
  {
   "cell_type": "code",
   "execution_count": 3,
   "metadata": {},
   "outputs": [
    {
     "name": "stdout",
     "output_type": "stream",
     "text": [
      "446\n"
     ]
    },
    {
     "data": {
      "text/plain": [
       "['https://nationalanthems.info/abk.htm',\n",
       " 'https://nationalanthems.info/aca.htm',\n",
       " 'https://nationalanthems.info/aco.htm',\n",
       " 'https://nationalanthems.info/ad.htm',\n",
       " 'https://nationalanthems.info/ae.htm',\n",
       " 'https://nationalanthems.info/af-06.htm',\n",
       " 'https://nationalanthems.info/af-43.htm',\n",
       " 'https://nationalanthems.info/af-73.htm',\n",
       " 'https://nationalanthems.info/af-78.htm',\n",
       " 'https://nationalanthems.info/af-92.htm']"
      ]
     },
     "execution_count": 3,
     "metadata": {},
     "output_type": "execute_result"
    }
   ],
   "source": [
    "print(len(links))\n",
    "links[:10]"
   ]
  },
  {
   "cell_type": "code",
   "execution_count": 4,
   "metadata": {},
   "outputs": [],
   "source": [
    "\n",
    "def scrap_anthems(links, pickle_results=True):\n",
    "    \n",
    "    logging.basicConfig(filename=\"scrapping_report.log\",\n",
    "                    filemode='w', force=True,\n",
    "                    format='%(asctime)s, %(levelname)s %(message)s',\n",
    "                    datefmt='%H:%M:%S',\n",
    "                    level=logging.DEBUG)\n",
    "\n",
    "    data = {}\n",
    "    logger = logging.getLogger('Scraping report')\n",
    "    for link in tqdm(links):\n",
    "        try:\n",
    "            page = requests.get(link, headers=headers)\n",
    "            soup = BeautifulSoup(page.text)\n",
    "        except Exception as e:\n",
    "            logger.error(f\"Connection error: {e} for {link}\")\n",
    "            continue\n",
    "\n",
    "        # Different countries have different html labels for a div with english lyrics, e.g:\n",
    "        # https://nationalanthems.info/dk.htm  -------> English versification\n",
    "        # https://nationalanthems.info/fr.htm  -------> English translation\n",
    "        # https://nationalanthems.info/gb.htm  -------> English lyrics\n",
    "        # Some countries have multiple correct labels, e.g. South Africa\n",
    "        \n",
    "        country_name = soup.find(\"title\").text.split(\" –\")[0]\n",
    "        eng_lyrics_label = soup.find(\"div\", title=re.compile(\"English lyrics\"))\n",
    "        eng_transl_label = soup.find(\"div\", title=re.compile(\"English translation\"))\n",
    "        eng_versif_label = soup.find(\"div\", title=re.compile(\"English versification\"))\n",
    "        possible_labels = [eng_lyrics_label, eng_transl_label, eng_versif_label]\n",
    "\n",
    "        if any(possible_labels):\n",
    "            all_matching_lyrics = []\n",
    "            all_matching_labels = []\n",
    "            if eng_transl_label:\n",
    "                lyrics = eng_transl_label.find_next(\"div\").text\n",
    "                all_matching_lyrics.append(lyrics)\n",
    "                all_matching_labels.append(\"transl\")\n",
    "            if eng_versif_label:\n",
    "                lyrics = eng_versif_label.find_next(\"div\").text\n",
    "                all_matching_lyrics.append(lyrics)\n",
    "                all_matching_labels.append(\"versif\")\n",
    "            if eng_lyrics_label:\n",
    "                lyrics = eng_lyrics_label.find_next(\"div\").text\n",
    "                all_matching_lyrics.append(lyrics)\n",
    "                all_matching_labels.append(\"lyrics\")\n",
    "\n",
    "            if len(all_matching_lyrics) == 1:\n",
    "                logger.info(f\"   Single matching lyrics found   |labels = {str(all_matching_labels):<30}| {link} [{country_name}]\")\n",
    "            else:\n",
    "                logger.info(f\"   Multiple matching lyrics found |labels = {str(all_matching_labels):<30}| {link} [{country_name}]\")\n",
    "            data[country_name] = [link.split(\"/\")[-1].split(\".\")[0].upper(), all_matching_lyrics]   \n",
    "        else:\n",
    "            data[country_name] = [link.split(\"/\")[-1].split(\".\")[0].upper(), [\"\"]]\n",
    "            logger.warning(f\"Lyrics not found\" + 55*\" \" + f\"| {link} [{country_name}]\")\n",
    "    logging.shutdown()\n",
    "    if pickle_results:\n",
    "        with open('./data/data.pickle', 'wb') as handle:\n",
    "            pickle.dump(data, handle, protocol=pickle.HIGHEST_PROTOCOL)\n",
    "    return data"
   ]
  },
  {
   "cell_type": "code",
   "execution_count": 5,
   "metadata": {},
   "outputs": [],
   "source": [
    "def validate_anthems(data):\n",
    "    assert \"Arise children of the fatherland\" in \" \".join(data[\"France\"][1])\n",
    "    assert \"Poland has not yet perished\" in \" \".join(data[\"Poland\"][1])\n",
    "    assert \"God save our gracious King\" in \" \".join(data[\"United Kingdom\"][1])\n",
    "    assert \"Oh, say can you see\" in \" \".join(data[\"United States\"][1])\n",
    "    assert \"God Bless Africa\" in \" \".join(data[\"South Africa\"][1])"
   ]
  },
  {
   "cell_type": "code",
   "execution_count": 6,
   "metadata": {},
   "outputs": [
    {
     "name": "stderr",
     "output_type": "stream",
     "text": [
      "  0%|          | 0/446 [00:00<?, ?it/s]"
     ]
    },
    {
     "name": "stderr",
     "output_type": "stream",
     "text": [
      "100%|██████████| 446/446 [15:04<00:00,  2.03s/it]\n"
     ]
    }
   ],
   "source": [
    "scrap_anthems(links);"
   ]
  },
  {
   "cell_type": "code",
   "execution_count": 7,
   "metadata": {},
   "outputs": [],
   "source": [
    "with open(\"./data/data.pickle\", \"rb\") as handle:\n",
    "    data = pickle.load(handle)\n",
    "\n",
    "validate_anthems(data)"
   ]
  },
  {
   "cell_type": "code",
   "execution_count": 8,
   "metadata": {},
   "outputs": [
    {
     "data": {
      "text/html": [
       "<div>\n",
       "<style scoped>\n",
       "    .dataframe tbody tr th:only-of-type {\n",
       "        vertical-align: middle;\n",
       "    }\n",
       "\n",
       "    .dataframe tbody tr th {\n",
       "        vertical-align: top;\n",
       "    }\n",
       "\n",
       "    .dataframe thead th {\n",
       "        text-align: right;\n",
       "    }\n",
       "</style>\n",
       "<table border=\"1\" class=\"dataframe\">\n",
       "  <thead>\n",
       "    <tr style=\"text-align: right;\">\n",
       "      <th></th>\n",
       "      <th>iso_2</th>\n",
       "      <th>lyrics</th>\n",
       "    </tr>\n",
       "  </thead>\n",
       "  <tbody>\n",
       "    <tr>\n",
       "      <th>Abkhazia</th>\n",
       "      <td>ABK</td>\n",
       "      <td>[\\nMarch on, march on,\\r\\nsons of Abkhazia!\\r\\...</td>\n",
       "    </tr>\n",
       "    <tr>\n",
       "      <th>Acadia</th>\n",
       "      <td>ACA</td>\n",
       "      <td>[\\n1. Hail Thou Star of the Ocean,\\r\\nPortal o...</td>\n",
       "    </tr>\n",
       "    <tr>\n",
       "      <th>Azores</th>\n",
       "      <td>ACO</td>\n",
       "      <td>[\\n1. Faith and firmness gave birth \\r\\nIn the...</td>\n",
       "    </tr>\n",
       "    <tr>\n",
       "      <th>Andorra</th>\n",
       "      <td>AD</td>\n",
       "      <td>[\\nThe great Charlemagne, my Father, liberated...</td>\n",
       "    </tr>\n",
       "    <tr>\n",
       "      <th>United Arab Emirates</th>\n",
       "      <td>AE</td>\n",
       "      <td>[\\nLive my country, the unity of our Emirates ...</td>\n",
       "    </tr>\n",
       "    <tr>\n",
       "      <th>...</th>\n",
       "      <td>...</td>\n",
       "      <td>...</td>\n",
       "    </tr>\n",
       "    <tr>\n",
       "      <th>Zanzibar (to 1890)</th>\n",
       "      <td>ZNZ-90</td>\n",
       "      <td>[]</td>\n",
       "    </tr>\n",
       "    <tr>\n",
       "      <th>Zanzibar</th>\n",
       "      <td>ZNZ</td>\n",
       "      <td>[\\nGod has blessed us all, Unguja and Pemba.\\r...</td>\n",
       "    </tr>\n",
       "    <tr>\n",
       "      <th>Zaire</th>\n",
       "      <td>ZRE</td>\n",
       "      <td>[\\nZaireans, in the newfound peace, \\r\\nUnited...</td>\n",
       "    </tr>\n",
       "    <tr>\n",
       "      <th>Zimbabwe (1980-1994)</th>\n",
       "      <td>ZW-94</td>\n",
       "      <td>[\\nGod bless Africa,\\r\\nLet her fame spread fa...</td>\n",
       "    </tr>\n",
       "    <tr>\n",
       "      <th>Zimbabwe</th>\n",
       "      <td>ZW</td>\n",
       "      <td>[\\n1. O lift high the banner, the flag of Zimb...</td>\n",
       "    </tr>\n",
       "  </tbody>\n",
       "</table>\n",
       "<p>437 rows × 2 columns</p>\n",
       "</div>"
      ],
      "text/plain": [
       "                       iso_2  \\\n",
       "Abkhazia                 ABK   \n",
       "Acadia                   ACA   \n",
       "Azores                   ACO   \n",
       "Andorra                   AD   \n",
       "United Arab Emirates      AE   \n",
       "...                      ...   \n",
       "Zanzibar (to 1890)    ZNZ-90   \n",
       "Zanzibar                 ZNZ   \n",
       "Zaire                    ZRE   \n",
       "Zimbabwe (1980-1994)   ZW-94   \n",
       "Zimbabwe                  ZW   \n",
       "\n",
       "                                                                 lyrics  \n",
       "Abkhazia              [\\nMarch on, march on,\\r\\nsons of Abkhazia!\\r\\...  \n",
       "Acadia                [\\n1. Hail Thou Star of the Ocean,\\r\\nPortal o...  \n",
       "Azores                [\\n1. Faith and firmness gave birth \\r\\nIn the...  \n",
       "Andorra               [\\nThe great Charlemagne, my Father, liberated...  \n",
       "United Arab Emirates  [\\nLive my country, the unity of our Emirates ...  \n",
       "...                                                                 ...  \n",
       "Zanzibar (to 1890)                                                   []  \n",
       "Zanzibar              [\\nGod has blessed us all, Unguja and Pemba.\\r...  \n",
       "Zaire                 [\\nZaireans, in the newfound peace, \\r\\nUnited...  \n",
       "Zimbabwe (1980-1994)  [\\nGod bless Africa,\\r\\nLet her fame spread fa...  \n",
       "Zimbabwe              [\\n1. O lift high the banner, the flag of Zimb...  \n",
       "\n",
       "[437 rows x 2 columns]"
      ]
     },
     "execution_count": 8,
     "metadata": {},
     "output_type": "execute_result"
    }
   ],
   "source": [
    "df = pd.DataFrame.from_dict(data, orient=\"index\", columns=[\"iso_2\", \"lyrics\"]).drop(\"Frequently Asked Questions (FAQ)\")\n",
    "df"
   ]
  },
  {
   "cell_type": "markdown",
   "metadata": {},
   "source": [
    "## Decide which lyrics to choose for countries with multiple english translations"
   ]
  },
  {
   "cell_type": "code",
   "execution_count": 9,
   "metadata": {},
   "outputs": [
    {
     "data": {
      "text/html": [
       "<div>\n",
       "<style scoped>\n",
       "    .dataframe tbody tr th:only-of-type {\n",
       "        vertical-align: middle;\n",
       "    }\n",
       "\n",
       "    .dataframe tbody tr th {\n",
       "        vertical-align: top;\n",
       "    }\n",
       "\n",
       "    .dataframe thead th {\n",
       "        text-align: right;\n",
       "    }\n",
       "</style>\n",
       "<table border=\"1\" class=\"dataframe\">\n",
       "  <thead>\n",
       "    <tr style=\"text-align: right;\">\n",
       "      <th></th>\n",
       "      <th>iso_2</th>\n",
       "      <th>lyrics</th>\n",
       "    </tr>\n",
       "  </thead>\n",
       "  <tbody>\n",
       "    <tr>\n",
       "      <th>Botswana</th>\n",
       "      <td>BW</td>\n",
       "      <td>[\\n\\n1. This land of ours,\\r\\nIs a gift from G...</td>\n",
       "    </tr>\n",
       "    <tr>\n",
       "      <th>Canada</th>\n",
       "      <td>CA</td>\n",
       "      <td>[\\nO Canada! Land of our ancestors\\r\\nGlorious...</td>\n",
       "    </tr>\n",
       "    <tr>\n",
       "      <th>Cameroon</th>\n",
       "      <td>CM</td>\n",
       "      <td>[\\n1. O Cameroon cradle of our ancestors,\\r\\nG...</td>\n",
       "    </tr>\n",
       "    <tr>\n",
       "      <th>Finland</th>\n",
       "      <td>FI</td>\n",
       "      <td>[\\n1. O our home country, Finland, the land wh...</td>\n",
       "    </tr>\n",
       "    <tr>\n",
       "      <th>Fiji</th>\n",
       "      <td>FJ</td>\n",
       "      <td>[\\n1. Let us show pride and honour our nation\\...</td>\n",
       "    </tr>\n",
       "    <tr>\n",
       "      <th>Malta</th>\n",
       "      <td>MT</td>\n",
       "      <td>[\\n1. To this sweet land, our mother, to which...</td>\n",
       "    </tr>\n",
       "    <tr>\n",
       "      <th>New Zealand</th>\n",
       "      <td>NZ</td>\n",
       "      <td>[\\n1. O Lord, God, \\r\\nOf all people\\r\\nListen...</td>\n",
       "    </tr>\n",
       "    <tr>\n",
       "      <th>Olympics</th>\n",
       "      <td>OLY</td>\n",
       "      <td>[\\nO Ancient immortal Spirit, pure father\\r\\nO...</td>\n",
       "    </tr>\n",
       "    <tr>\n",
       "      <th>South Africa</th>\n",
       "      <td>ZA</td>\n",
       "      <td>[\\nGod Bless Africa\\r\\nRaise high Her glory\\r\\...</td>\n",
       "    </tr>\n",
       "  </tbody>\n",
       "</table>\n",
       "</div>"
      ],
      "text/plain": [
       "             iso_2                                             lyrics\n",
       "Botswana        BW  [\\n\\n1. This land of ours,\\r\\nIs a gift from G...\n",
       "Canada          CA  [\\nO Canada! Land of our ancestors\\r\\nGlorious...\n",
       "Cameroon        CM  [\\n1. O Cameroon cradle of our ancestors,\\r\\nG...\n",
       "Finland         FI  [\\n1. O our home country, Finland, the land wh...\n",
       "Fiji            FJ  [\\n1. Let us show pride and honour our nation\\...\n",
       "Malta           MT  [\\n1. To this sweet land, our mother, to which...\n",
       "New Zealand     NZ  [\\n1. O Lord, God, \\r\\nOf all people\\r\\nListen...\n",
       "Olympics       OLY  [\\nO Ancient immortal Spirit, pure father\\r\\nO...\n",
       "South Africa    ZA  [\\nGod Bless Africa\\r\\nRaise high Her glory\\r\\..."
      ]
     },
     "execution_count": 9,
     "metadata": {},
     "output_type": "execute_result"
    }
   ],
   "source": [
    "df[df[\"lyrics\"].apply(lambda x: len(x)) > 1]"
   ]
  },
  {
   "cell_type": "code",
   "execution_count": 10,
   "metadata": {},
   "outputs": [],
   "source": [
    "data[\"Botswana\"][1].pop(1)\n",
    "data[\"Canada\"][1].pop(0)\n",
    "data[\"Cameroon\"][1].pop(0)\n",
    "data[\"Finland\"][1].pop(0)\n",
    "data[\"Fiji\"][1].pop(0)\n",
    "data[\"Malta\"][1].pop(1)\n",
    "data[\"New Zealand\"][1].pop(0)\n",
    "data[\"Olympics\"][1].pop(1)\n",
    "data[\"South Africa\"][1].pop(1)\n",
    "\n",
    "validate_anthems(data)\n",
    "data = {k: [v[0], v[1][0]] for (k, v) in data.items()}"
   ]
  },
  {
   "cell_type": "code",
   "execution_count": 11,
   "metadata": {},
   "outputs": [],
   "source": [
    "with open('./data/data.pickle', 'wb') as handle:\n",
    "    pickle.dump(data, handle, protocol=pickle.HIGHEST_PROTOCOL)"
   ]
  },
  {
   "cell_type": "code",
   "execution_count": null,
   "metadata": {},
   "outputs": [],
   "source": []
  }
 ],
 "metadata": {
  "kernelspec": {
   "display_name": "Python 3",
   "language": "python",
   "name": "python3"
  },
  "language_info": {
   "codemirror_mode": {
    "name": "ipython",
    "version": 3
   },
   "file_extension": ".py",
   "mimetype": "text/x-python",
   "name": "python",
   "nbconvert_exporter": "python",
   "pygments_lexer": "ipython3",
   "version": "3.11.5"
  }
 },
 "nbformat": 4,
 "nbformat_minor": 2
}
